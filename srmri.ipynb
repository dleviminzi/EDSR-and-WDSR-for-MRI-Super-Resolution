{
 "cells": [
  {
   "cell_type": "code",
   "execution_count": 1,
   "metadata": {},
   "outputs": [],
   "source": [
    "import os\n",
    "import matplotlib.pyplot as plt\n",
    "from dataset import dataset\n",
    "from edsr import edsr\n",
    "from train import EdsrTrainer\n",
    "from numba import cuda\n",
    "from common import resolve\n",
    "from common import resolve_single\n",
    "from common import evaluate"
   ]
  },
  {
   "cell_type": "code",
   "execution_count": 2,
   "metadata": {},
   "outputs": [],
   "source": [
    "# set hp depth and scale and get device to clear memory later\n",
    "\n",
    "device = cuda.get_current_device()\n",
    "depth = 16\n",
    "scale = 4"
   ]
  },
  {
   "cell_type": "code",
   "execution_count": 3,
   "metadata": {},
   "outputs": [],
   "source": [
    "# set directory for saving model weights \n",
    "\n",
    "weights_dir = './weights/edsr-16-x4/'\n",
    "weights_file = os.path.join(weights_dir, 'weightsM16.h5')\n",
    "os.makedirs(weights_dir, exist_ok=True)"
   ]
  },
  {
   "cell_type": "code",
   "execution_count": 4,
   "metadata": {},
   "outputs": [],
   "source": [
    "# create our training and validation datasets\n",
    "\n",
    "train_ds = dataset(batch_size=16, random_transform=True, subset='train')\n",
    "valid_ds = dataset(batch_size=1, repeat_count=1, random_transform=False, subset='valid')"
   ]
  },
  {
   "cell_type": "code",
   "execution_count": 5,
   "metadata": {},
   "outputs": [],
   "source": [
    "# initialize model and get weights from model trained by Krasserm\n",
    "\n",
    "model=edsr(scale=scale, num_res_blocks=depth)\n",
    "model.load_weights('weights/edsr-16-x4/weights.h5')     "
   ]
  },
  {
   "cell_type": "code",
   "execution_count": 1,
   "metadata": {},
   "outputs": [
    {
     "ename": "NameError",
     "evalue": "name 'EdsrTrainer' is not defined",
     "output_type": "error",
     "traceback": [
      "\u001b[0;31m---------------------------------------------------------------------------\u001b[0m",
      "\u001b[0;31mNameError\u001b[0m                                 Traceback (most recent call last)",
      "\u001b[0;32m<ipython-input-1-66d4852f8f30>\u001b[0m in \u001b[0;36m<module>\u001b[0;34m\u001b[0m\n\u001b[1;32m      1\u001b[0m \u001b[0;31m# initialize the trainer\u001b[0m\u001b[0;34m\u001b[0m\u001b[0;34m\u001b[0m\u001b[0;34m\u001b[0m\u001b[0m\n\u001b[1;32m      2\u001b[0m \u001b[0;34m\u001b[0m\u001b[0m\n\u001b[0;32m----> 3\u001b[0;31m \u001b[0mtrainer\u001b[0m \u001b[0;34m=\u001b[0m \u001b[0mEdsrTrainer\u001b[0m\u001b[0;34m(\u001b[0m\u001b[0mmodel\u001b[0m\u001b[0;34m=\u001b[0m\u001b[0mmodel\u001b[0m\u001b[0;34m,\u001b[0m \u001b[0mcheckpoint_dir\u001b[0m\u001b[0;34m=\u001b[0m\u001b[0;34mf'.ckpt/edsr-{depth}-x{scale}'\u001b[0m\u001b[0;34m)\u001b[0m\u001b[0;34m\u001b[0m\u001b[0;34m\u001b[0m\u001b[0m\n\u001b[0m",
      "\u001b[0;31mNameError\u001b[0m: name 'EdsrTrainer' is not defined"
     ]
    }
   ],
   "source": [
    "# initialize the trainer\n",
    "\n",
    "trainer = EdsrTrainer(model=model, checkpoint_dir=f'.ckpt/edsr-{depth}-x{scale}')"
   ]
  },
  {
   "cell_type": "code",
   "execution_count": null,
   "metadata": {},
   "outputs": [
    {
     "name": "stdout",
     "output_type": "stream",
     "text": [
      "1000/80000: loss = 7.760, PSNR = 24.525671 (111.96s)\n",
      "2000/80000: loss = 7.105, PSNR = 25.011930 (109.98s)\n",
      "3000/80000: loss = 6.797, PSNR = 25.332977 (110.68s)\n",
      "4000/80000: loss = 6.575, PSNR = 25.601933 (110.73s)\n",
      "5000/80000: loss = 6.417, PSNR = 25.780127 (110.87s)\n",
      "6000/80000: loss = 6.277, PSNR = 25.977528 (110.82s)\n"
     ]
    }
   ],
   "source": [
    "# train!\n",
    "\n",
    "trainer.train(train_ds, valid_ds.take(10), steps=80000, evaluate_every=1000, save_best_only=True)"
   ]
  },
  {
   "cell_type": "code",
   "execution_count": 8,
   "metadata": {},
   "outputs": [
    {
     "name": "stdout",
     "output_type": "stream",
     "text": [
      "Model restored from checkpoint at step 41000.\n"
     ]
    }
   ],
   "source": [
    "# restore the weights from the best checkpoint\n",
    "\n",
    "trainer.restore()"
   ]
  },
  {
   "cell_type": "code",
   "execution_count": 9,
   "metadata": {},
   "outputs": [
    {
     "name": "stdout",
     "output_type": "stream",
     "text": [
      "PSNR = 25.180470\n"
     ]
    }
   ],
   "source": [
    "# validate results\n",
    "\n",
    "psnrv = trainer.evaluate(valid_ds)\n",
    "print(f'PSNR = {psnrv.numpy():3f}')"
   ]
  },
  {
   "cell_type": "code",
   "execution_count": 10,
   "metadata": {},
   "outputs": [],
   "source": [
    "# save weights\n",
    "\n",
    "trainer.model.save_weights(weights_file)"
   ]
  },
  {
   "cell_type": "code",
   "execution_count": 1,
   "metadata": {},
   "outputs": [
    {
     "ename": "NameError",
     "evalue": "name 'device' is not defined",
     "output_type": "error",
     "traceback": [
      "\u001b[0;31m---------------------------------------------------------------------------\u001b[0m",
      "\u001b[0;31mNameError\u001b[0m                                 Traceback (most recent call last)",
      "\u001b[0;32m<ipython-input-1-9b0240f362aa>\u001b[0m in \u001b[0;36m<module>\u001b[0;34m\u001b[0m\n\u001b[1;32m      1\u001b[0m \u001b[0;31m# clear GPU memory\u001b[0m\u001b[0;34m\u001b[0m\u001b[0;34m\u001b[0m\u001b[0;34m\u001b[0m\u001b[0m\n\u001b[1;32m      2\u001b[0m \u001b[0;34m\u001b[0m\u001b[0m\n\u001b[0;32m----> 3\u001b[0;31m \u001b[0mdevice\u001b[0m\u001b[0;34m.\u001b[0m\u001b[0mreset\u001b[0m\u001b[0;34m(\u001b[0m\u001b[0;34m)\u001b[0m\u001b[0;34m\u001b[0m\u001b[0;34m\u001b[0m\u001b[0m\n\u001b[0m",
      "\u001b[0;31mNameError\u001b[0m: name 'device' is not defined"
     ]
    }
   ],
   "source": [
    "# clear GPU memory\n",
    "\n",
    "device.reset()"
   ]
  },
  {
   "cell_type": "code",
   "execution_count": null,
   "metadata": {},
   "outputs": [],
   "source": []
  }
 ],
 "metadata": {
  "kernelspec": {
   "display_name": "Python (myenv)",
   "language": "python",
   "name": "sr"
  },
  "language_info": {
   "codemirror_mode": {
    "name": "ipython",
    "version": 3
   },
   "file_extension": ".py",
   "mimetype": "text/x-python",
   "name": "python",
   "nbconvert_exporter": "python",
   "pygments_lexer": "ipython3",
   "version": "3.6.10"
  }
 },
 "nbformat": 4,
 "nbformat_minor": 4
}
